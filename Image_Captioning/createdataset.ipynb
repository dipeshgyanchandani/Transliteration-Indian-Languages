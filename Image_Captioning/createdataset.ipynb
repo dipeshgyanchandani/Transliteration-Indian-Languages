{
 "cells": [
  {
   "cell_type": "code",
   "execution_count": 3,
   "metadata": {},
   "outputs": [
    {
     "name": "stdout",
     "output_type": "stream",
     "text": [
      "Process Completed Successfully!\n"
     ]
    }
   ],
   "source": [
    "import os\n",
    "import cv2\n",
    "import pandas as pd\n",
    "\n",
    "# Function to read coordinates from text files\n",
    "def read_coordinates(file_path):\n",
    "    with open(file_path, 'r') as file:\n",
    "        line = file.readline().strip()\n",
    "        coordinates = line.split()\n",
    "        return list(map(float, coordinates[:8])), coordinates[8]\n",
    "\n",
    "# Function to crop images based on coordinates\n",
    "def crop_image(image_path, coordinates):\n",
    "    img = cv2.imread(image_path)\n",
    "    x1, x2, x3, x4, y1, y2, y3, y4 = coordinates\n",
    "    cropped_img = img[min(int(y1), int(y2), int(y3), int(y4)):max(int(y1), int(y2), int(y3), int(y4)), min(int(x1), int(x2), int(x3), int(x4)):max(int(x1), int(x2), int(x3), int(x4))]\n",
    "    return cropped_img\n",
    "\n",
    "# Function to save cropped images\n",
    "def save_cropped_image(cropped_img, output_folder, output_img_name):\n",
    "\n",
    "    # Assuming cropped_img is the cropped image you want to write\n",
    "    if cropped_img.size == 0:\n",
    "        return 'not-saved'\n",
    "    else:\n",
    "         # Write the cropped image to a file\n",
    "        output_path = os.path.join(output_folder, output_img_name)\n",
    "        cv2.imwrite(output_path, cropped_img)\n",
    "        return 'saved'\n",
    "\n",
    "\n",
    "# Function to save coordinates to Excel\n",
    "def save_coordinates_to_excel(coordinates_data, output_excel_path):\n",
    "    df = pd.DataFrame(coordinates_data, columns=['x1', 'x2', 'x3', 'x4', 'y1', 'y2', 'y3', 'y4', 'word', 'filename'])\n",
    "    df.to_excel(output_excel_path, index=False)\n",
    "\n",
    "# Main function\n",
    "def main(text_folder, image_folder, output_folder, output_excel_path):\n",
    "    coordinates_data = []\n",
    "\n",
    "    # Iterate over text files containing coordinates\n",
    "    for text_file in os.listdir(text_folder):\n",
    "        if text_file.endswith('.txt'):\n",
    "            text_file_path = os.path.join(text_folder, text_file)\n",
    "            coordinates, word = read_coordinates(text_file_path)\n",
    "            \n",
    "\n",
    "            # Crop corresponding image\n",
    "            img_name = os.path.splitext(text_file)[0]\n",
    "            image_name = os.path.splitext(text_file)[0] + '.jpg'\n",
    "            image_path = os.path.join(image_folder, image_name)\n",
    "            cropped_img = crop_image(image_path, coordinates)\n",
    "            output_img_name = f'{img_name}_{word}.jpg'\n",
    "\n",
    "            # Save cropped image\n",
    "            is_saved = save_cropped_image(cropped_img, output_folder, output_img_name)\n",
    "            if is_saved == 'saved' :\n",
    "                coordinates_data.append(coordinates + [word] + [output_img_name])\n",
    "            elif is_saved == 'not-saved':\n",
    "                pass\n",
    "\n",
    "    # Save coordinates to Excel\n",
    "    save_coordinates_to_excel(coordinates_data, output_excel_path)\n",
    "    print(\"Process Completed Successfully!\")\n",
    "\n",
    "# Example usage\n",
    "text_folder = './Data/Synthetic Train Set - Detection & Recognition/Annotation/1'\n",
    "image_folder = './Data/Synthetic Train Set - Detection & Recognition/Image/1'\n",
    "output_folder = './Data/Images/'\n",
    "output_excel = 'output_coordinates.xlsx'\n",
    "output_excel_path = 'path_to_output_excel_file.xlsx'\n",
    "\n",
    "main(text_folder, image_folder, output_folder, output_excel_path)\n"
   ]
  },
  {
   "cell_type": "code",
   "execution_count": null,
   "metadata": {},
   "outputs": [],
   "source": []
  }
 ],
 "metadata": {
  "kernelspec": {
   "display_name": "my_venv",
   "language": "python",
   "name": "python3"
  },
  "language_info": {
   "codemirror_mode": {
    "name": "ipython",
    "version": 3
   },
   "file_extension": ".py",
   "mimetype": "text/x-python",
   "name": "python",
   "nbconvert_exporter": "python",
   "pygments_lexer": "ipython3",
   "version": "3.10.7"
  },
  "orig_nbformat": 4
 },
 "nbformat": 4,
 "nbformat_minor": 2
}
